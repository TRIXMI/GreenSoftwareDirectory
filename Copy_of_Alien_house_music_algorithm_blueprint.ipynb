{
  "nbformat": 4,
  "nbformat_minor": 0,
  "metadata": {
    "colab": {
      "private_outputs": true,
      "provenance": [],
      "authorship_tag": "ABX9TyOBUUBaIs4h4pw4l9RF2yTd",
      "include_colab_link": true
    },
    "kernelspec": {
      "name": "python3",
      "display_name": "Python 3"
    },
    "language_info": {
      "name": "python"
    }
  },
  "cells": [
    {
      "cell_type": "markdown",
      "metadata": {
        "id": "view-in-github",
        "colab_type": "text"
      },
      "source": [
        "<a href=\"https://colab.research.google.com/github/TRIXMI/GreenSoftwareDirectory/blob/main/Copy_of_Alien_house_music_algorithm_blueprint.ipynb\" target=\"_parent\"><img src=\"https://colab.research.google.com/assets/colab-badge.svg\" alt=\"Open In Colab\"/></a>"
      ]
    },
    {
      "cell_type": "code",
      "execution_count": null,
      "metadata": {
        "id": "xVKFu4fAmcUm"
      },
      "outputs": [],
      "source": [
        "# prompt: https://aistudio.google.com/app/prompts?state=%7B%22ids%22:%5B%221VWNRczYVCBCAfe_dlJfkNj5QgyUjBceq%22%5D,%22action%22:%22open%22,%22userId%22:%22111118477956374940845%22,%22resourceKeys%22:%7B%7D%7D&usp=sharing\n",
        "\n",
        "%reload_ext google.colab.data_table\n",
        "import pandas as pd\n",
        "\n",
        "data = {'col1': [1, 2, 3], 'col2': [4, 5, 6], 'col3': [7, 8, 9]}\n",
        "df = pd.DataFrame(data)\n",
        "\n",
        "df"
      ]
    },
    {
      "cell_type": "code",
      "source": [
        "# prompt: Using dataframe df: # Define a function to calculate the factorial of a non-negative integer\n",
        "# def calculate_factorial(n):\n",
        "#   # ... (function body as provided) ...\n",
        "\n",
        "# Define a function to calculate the factorial of a non-negative integer\n",
        "def calculate_factorial(n):\n",
        "  # Check if the number is negative\n",
        "  if n < 0:\n",
        "    return \"Factorial is not defined for negative numbers\"\n",
        "  # Check if the number is zero\n",
        "  elif n == 0:\n",
        "    return 1\n",
        "  # Calculate the factorial for positive numbers\n",
        "  else:\n",
        "    factorial = 1\n",
        "    for i in range(1, n + 1):\n",
        "      factorial *= i\n",
        "    return factorial\n",
        "print(calculate_factorial(5))"
      ],
      "metadata": {
        "id": "PBObmp6Rm8Af"
      },
      "execution_count": null,
      "outputs": []
    },
    {
      "cell_type": "code",
      "metadata": {
        "id": "8eb35c33"
      },
      "source": [
        "!git clone https://github.com/TWEAKING-BEATS-XR/magenta-realtime.git"
      ],
      "execution_count": null,
      "outputs": []
    },
    {
      "cell_type": "code",
      "metadata": {
        "id": "061fd174"
      },
      "source": [
        "import tarfile\n",
        "import os\n",
        "\n",
        "file_path = \"/content/alien-house-music-.-tensor-llm-gemmacpp-default-v1.tar.gz\"\n",
        "extract_dir = \"/content/extracted_data\"\n",
        "\n",
        "# Create the extraction directory if it doesn't exist\n",
        "os.makedirs(extract_dir, exist_ok=True)\n",
        "\n",
        "# Open and extract the tar.gz file\n",
        "try:\n",
        "    with tarfile.open(file_path, 'r:gz') as tar:\n",
        "        tar.extractall(path=extract_dir)\n",
        "    print(f\"Successfully extracted {file_path} to {extract_dir}\")\n",
        "except tarfile.TarError as e:\n",
        "    print(f\"Error extracting tar.gz file: {e}\")\n",
        "except FileNotFoundError:\n",
        "    print(f\"Error: The file {file_path} was not found.\")\n",
        "except Exception as e:\n",
        "    print(f\"An unexpected error occurred: {e}\")"
      ],
      "execution_count": null,
      "outputs": []
    },
    {
      "cell_type": "code",
      "metadata": {
        "id": "a121395a"
      },
      "source": [
        "file_path = \"/content/code 140.py\"\n",
        "\n",
        "try:\n",
        "    with open(file_path, 'r') as f:\n",
        "        file_content = f.read()\n",
        "    print(file_content)\n",
        "except FileNotFoundError:\n",
        "    print(f\"Error: The file {file_path} was not found.\")\n",
        "except Exception as e:\n",
        "    print(f\"An unexpected error occurred: {e}\")"
      ],
      "execution_count": null,
      "outputs": []
    },
    {
      "cell_type": "code",
      "metadata": {
        "id": "e1399503"
      },
      "source": [
        "file_path = \"/content/code 140.sh\"\n",
        "\n",
        "try:\n",
        "    with open(file_path, 'r') as f:\n",
        "        file_content = f.read()\n",
        "    print(file_content)\n",
        "except FileNotFoundError:\n",
        "    print(f\"Error: The file {file_path} was not found.\")\n",
        "except Exception as e:\n",
        "    print(f\"An unexpected error occurred: {e}\")"
      ],
      "execution_count": null,
      "outputs": []
    },
    {
      "cell_type": "code",
      "metadata": {
        "id": "8c1746e0"
      },
      "source": [
        "file_path = \"/content/code 139.py\"\n",
        "\n",
        "try:\n",
        "    with open(file_path, 'r') as f:\n",
        "        file_content = f.read()\n",
        "    print(file_content)\n",
        "except FileNotFoundError:\n",
        "    print(f\"Error: The file {file_path} was not found.\")\n",
        "except Exception as e:\n",
        "    print(f\"An unexpected error occurred: {e}\")"
      ],
      "execution_count": null,
      "outputs": []
    },
    {
      "cell_type": "code",
      "metadata": {
        "id": "93c3f7e0"
      },
      "source": [
        "file_path = \"/content/code 138.sh\"\n",
        "\n",
        "try:\n",
        "    with open(file_path, 'r') as f:\n",
        "        file_content = f.read()\n",
        "    print(file_content)\n",
        "except FileNotFoundError:\n",
        "    print(f\"Error: The file {file_path} was not found.\")\n",
        "except Exception as e:\n",
        "    print(f\"An unexpected error occurred: {e}\")"
      ],
      "execution_count": null,
      "outputs": []
    },
    {
      "cell_type": "code",
      "metadata": {
        "id": "ba9ddead"
      },
      "source": [
        "file_path = \"/content/code 136.py\"\n",
        "\n",
        "try:\n",
        "    with open(file_path, 'r') as f:\n",
        "        file_content = f.read()\n",
        "    print(file_content)\n",
        "except FileNotFoundError:\n",
        "    print(f\"Error: The file {file_path} was not found.\")\n",
        "except Exception as e:\n",
        "    print(f\"An unexpected error occurred: {e}\")"
      ],
      "execution_count": null,
      "outputs": []
    },
    {
      "cell_type": "code",
      "metadata": {
        "id": "7eb9c000"
      },
      "source": [
        "file_path = \"/content/code 135.sh\"\n",
        "\n",
        "try:\n",
        "    with open(file_path, 'r') as f:\n",
        "        file_content = f.read()\n",
        "    print(file_content)\n",
        "except FileNotFoundError:\n",
        "    print(f\"Error: The file {file_path} was not found.\")\n",
        "except Exception as e:\n",
        "    print(f\"An unexpected error occurred: {e}\")"
      ],
      "execution_count": null,
      "outputs": []
    },
    {
      "cell_type": "code",
      "metadata": {
        "id": "f47750f4"
      },
      "source": [
        "file_path = \"/content/code 134.sh\"\n",
        "\n",
        "try:\n",
        "    with open(file_path, 'r') as f:\n",
        "        file_content = f.read()\n",
        "    print(file_content)\n",
        "except FileNotFoundError:\n",
        "    print(f\"Error: The file {file_path} was not found.\")\n",
        "except Exception as e:\n",
        "    print(f\"An unexpected error occurred: {e}\")"
      ],
      "execution_count": null,
      "outputs": []
    },
    {
      "cell_type": "code",
      "metadata": {
        "id": "8425216c"
      },
      "source": [
        "file_path = \"/content/code 133.txt\"\n",
        "\n",
        "try:\n",
        "    with open(file_path, 'r') as f:\n",
        "        file_content = f.read()\n",
        "    print(file_content)\n",
        "except FileNotFoundError:\n",
        "    print(f\"Error: The file {file_path} was not found.\")\n",
        "except Exception as e:\n",
        "    print(f\"An unexpected error occurred: {e}\")"
      ],
      "execution_count": null,
      "outputs": []
    },
    {
      "cell_type": "code",
      "metadata": {
        "id": "37024885"
      },
      "source": [
        "file_path = \"/content/code 131.py\"\n",
        "\n",
        "try:\n",
        "    with open(file_path, 'r') as f:\n",
        "        file_content = f.read()\n",
        "    print(file_content)\n",
        "except FileNotFoundError:\n",
        "    print(f\"Error: The file {file_path} was not found.\")\n",
        "except Exception as e:\n",
        "    print(f\"An unexpected error occurred: {e}\")"
      ],
      "execution_count": null,
      "outputs": []
    },
    {
      "cell_type": "code",
      "metadata": {
        "id": "faed8176"
      },
      "source": [
        "file_path = \"/content/code 130.txt\"\n",
        "\n",
        "try:\n",
        "    with open(file_path, 'r') as f:\n",
        "        file_content = f.read()\n",
        "    print(file_content)\n",
        "except FileNotFoundError:\n",
        "    print(f\"Error: The file {file_path} was not found.\")\n",
        "except Exception as e:\n",
        "    print(f\"An unexpected error occurred: {e}\")"
      ],
      "execution_count": null,
      "outputs": []
    },
    {
      "cell_type": "code",
      "metadata": {
        "id": "7702f384"
      },
      "source": [
        "file_path = \"/content/code 129.txt\"\n",
        "\n",
        "try:\n",
        "    with open(file_path, 'r') as f:\n",
        "        file_content = f.read()\n",
        "    print(file_content)\n",
        "except FileNotFoundError:\n",
        "    print(f\"Error: The file {file_path} was not found.\")\n",
        "except Exception as e:\n",
        "    print(f\"An unexpected error occurred: {e}\")"
      ],
      "execution_count": null,
      "outputs": []
    },
    {
      "cell_type": "code",
      "metadata": {
        "id": "c396fcad"
      },
      "source": [
        "file_path = \"/content/code 128.txt\"\n",
        "\n",
        "try:\n",
        "    with open(file_path, 'r') as f:\n",
        "        file_content = f.read()\n",
        "    print(file_content)\n",
        "except FileNotFoundError:\n",
        "    print(f\"Error: The file {file_path} was not found.\")\n",
        "except Exception as e:\n",
        "    print(f\"An unexpected error occurred: {e}\")"
      ],
      "execution_count": null,
      "outputs": []
    },
    {
      "cell_type": "code",
      "metadata": {
        "id": "32e71916"
      },
      "source": [
        "file_path = \"/content/code 127.py\"\n",
        "\n",
        "try:\n",
        "    with open(file_path, 'r') as f:\n",
        "        file_content = f.read()\n",
        "    print(file_content)\n",
        "except FileNotFoundError:\n",
        "    print(f\"Error: The file {file_path} was not found.\")\n",
        "except Exception as e:\n",
        "    print(f\"An unexpected error occurred: {e}\")"
      ],
      "execution_count": null,
      "outputs": []
    },
    {
      "cell_type": "code",
      "metadata": {
        "id": "235a757d"
      },
      "source": [
        "file_path = \"/content/code 126.txt\"\n",
        "\n",
        "try:\n",
        "    with open(file_path, 'r') as f:\n",
        "        file_content = f.read()\n",
        "    print(file_content)\n",
        "except FileNotFoundError:\n",
        "    print(f\"Error: The file {file_path} was not found.\")\n",
        "except Exception as e:\n",
        "    print(f\"An unexpected error occurred: {e}\")"
      ],
      "execution_count": null,
      "outputs": []
    },
    {
      "cell_type": "code",
      "metadata": {
        "id": "e3b4d059"
      },
      "source": [
        "file_path = \"/content/code 125.py\"\n",
        "\n",
        "try:\n",
        "    with open(file_path, 'r') as f:\n",
        "        file_content = f.read()\n",
        "    print(file_content)\n",
        "except FileNotFoundError:\n",
        "    print(f\"Error: The file {file_path} was not found.\")\n",
        "except Exception as e:\n",
        "    print(f\"An unexpected error occurred: {e}\")"
      ],
      "execution_count": null,
      "outputs": []
    },
    {
      "cell_type": "code",
      "metadata": {
        "id": "1f9e60a6"
      },
      "source": [
        "file_path = \"/content/code 124.py\"\n",
        "\n",
        "try:\n",
        "    with open(file_path, 'r') as f:\n",
        "        file_content = f.read()\n",
        "    print(file_content)\n",
        "except FileNotFoundError:\n",
        "    print(f\"Error: The file {file_path} was not found.\")\n",
        "except Exception as e:\n",
        "    print(f\"An unexpected error occurred: {e}\")"
      ],
      "execution_count": null,
      "outputs": []
    },
    {
      "cell_type": "code",
      "metadata": {
        "id": "cefa6a74"
      },
      "source": [
        "file_path = \"/content/code 123.py\"\n",
        "\n",
        "try:\n",
        "    with open(file_path, 'r') as f:\n",
        "        file_content = f.read()\n",
        "    print(file_content)\n",
        "except FileNotFoundError:\n",
        "    print(f\"Error: The file {file_path} was not found.\")\n",
        "except Exception as e:\n",
        "    print(f\"An unexpected error occurred: {e}\")"
      ],
      "execution_count": null,
      "outputs": []
    },
    {
      "cell_type": "code",
      "metadata": {
        "id": "05a45e45"
      },
      "source": [
        "file_path = \"/content/code 122.py\"\n",
        "\n",
        "try:\n",
        "    with open(file_path, 'r') as f:\n",
        "        file_content = f.read()\n",
        "    print(file_content)\n",
        "except FileNotFoundError:\n",
        "    print(f\"Error: The file {file_path} was not found.\")\n",
        "except Exception as e:\n",
        "    print(f\"An unexpected error occurred: {e}\")"
      ],
      "execution_count": null,
      "outputs": []
    },
    {
      "cell_type": "code",
      "metadata": {
        "id": "75de4a84"
      },
      "source": [
        "file_path = \"/content/code 121.py\"\n",
        "\n",
        "try:\n",
        "    with open(file_path, 'r') as f:\n",
        "        file_content = f.read()\n",
        "    print(file_content)\n",
        "except FileNotFoundError:\n",
        "    print(f\"Error: The file {file_path} was not found.\")\n",
        "except Exception as e:\n",
        "    print(f\"An unexpected error occurred: {e}\")"
      ],
      "execution_count": null,
      "outputs": []
    },
    {
      "cell_type": "code",
      "metadata": {
        "id": "e6369ebf"
      },
      "source": [
        "file_path = \"/content/code 120.py\"\n",
        "\n",
        "try:\n",
        "    with open(file_path, 'r') as f:\n",
        "        file_content = f.read()\n",
        "    print(file_content)\n",
        "except FileNotFoundError:\n",
        "    print(f\"Error: The file {file_path} was not found.\")\n",
        "except Exception as e:\n",
        "    print(f\"An unexpected error occurred: {e}\")"
      ],
      "execution_count": null,
      "outputs": []
    },
    {
      "cell_type": "code",
      "metadata": {
        "id": "6942c238"
      },
      "source": [
        "file_path = \"/content/code 119.txt\"\n",
        "\n",
        "try:\n",
        "    with open(file_path, 'r') as f:\n",
        "        file_content = f.read()\n",
        "    print(file_content)\n",
        "except FileNotFoundError:\n",
        "    print(f\"Error: The file {file_path} was not found.\")\n",
        "except Exception as e:\n",
        "    print(f\"An unexpected error occurred: {e}\")"
      ],
      "execution_count": null,
      "outputs": []
    },
    {
      "cell_type": "code",
      "metadata": {
        "id": "710bb372"
      },
      "source": [
        "file_path = \"/content/code 117.py\"\n",
        "\n",
        "try:\n",
        "    with open(file_path, 'r') as f:\n",
        "        file_content = f.read()\n",
        "    print(file_content)\n",
        "except FileNotFoundError:\n",
        "    print(f\"Error: The file {file_path} was not found.\")\n",
        "except Exception as e:\n",
        "    print(f\"An unexpected error occurred: {e}\")"
      ],
      "execution_count": null,
      "outputs": []
    },
    {
      "cell_type": "code",
      "metadata": {
        "id": "cf0db721"
      },
      "source": [
        "file_path = \"/content/code 116.py\"\n",
        "\n",
        "try:\n",
        "    with open(file_path, 'r') as f:\n",
        "        file_content = f.read()\n",
        "    print(file_content)\n",
        "except FileNotFoundError:\n",
        "    print(f\"Error: The file {file_path} was not found.\")\n",
        "except Exception as e:\n",
        "    print(f\"An unexpected error occurred: {e}\")"
      ],
      "execution_count": null,
      "outputs": []
    },
    {
      "cell_type": "code",
      "metadata": {
        "id": "04d1365b"
      },
      "source": [
        "file_path = \"/content/code 115.py\"\n",
        "\n",
        "try:\n",
        "    with open(file_path, 'r') as f:\n",
        "        file_content = f.read()\n",
        "    print(file_content)\n",
        "except FileNotFoundError:\n",
        "    print(f\"Error: The file {file_path} was not found.\")\n",
        "except Exception as e:\n",
        "    print(f\"An unexpected error occurred: {e}\")"
      ],
      "execution_count": null,
      "outputs": []
    },
    {
      "cell_type": "code",
      "metadata": {
        "id": "80149657"
      },
      "source": [
        "file_path = \"/content/code 114.txt\"\n",
        "\n",
        "try:\n",
        "    with open(file_path, 'r') as f:\n",
        "        file_content = f.read()\n",
        "    print(file_content)\n",
        "except FileNotFoundError:\n",
        "    print(f\"Error: The file {file_path} was not found.\")\n",
        "except Exception as e:\n",
        "    print(f\"An unexpected error occurred: {e}\")"
      ],
      "execution_count": null,
      "outputs": []
    },
    {
      "cell_type": "code",
      "metadata": {
        "id": "af553740"
      },
      "source": [
        "file_path = \"/content/code 113.py\"\n",
        "\n",
        "try:\n",
        "    with open(file_path, 'r') as f:\n",
        "        file_content = f.read()\n",
        "    print(file_content)\n",
        "except FileNotFoundError:\n",
        "    print(f\"Error: The file {file_path} was not found.\")\n",
        "except Exception as e:\n",
        "    print(f\"An unexpected error occurred: {e}\")"
      ],
      "execution_count": null,
      "outputs": []
    },
    {
      "cell_type": "code",
      "metadata": {
        "id": "99fdc5fe"
      },
      "source": [
        "file_path = \"/content/code 112.py\"\n",
        "\n",
        "try:\n",
        "    with open(file_path, 'r') as f:\n",
        "        file_content = f.read()\n",
        "    print(file_content)\n",
        "except FileNotFoundError:\n",
        "    print(f\"Error: The file {file_path} was not found.\")\n",
        "except Exception as e:\n",
        "    print(f\"An unexpected error occurred: {e}\")"
      ],
      "execution_count": null,
      "outputs": []
    },
    {
      "cell_type": "code",
      "metadata": {
        "id": "e839407e"
      },
      "source": [
        "file_path = \"/content/code 110.py\"\n",
        "\n",
        "try:\n",
        "    with open(file_path, 'r') as f:\n",
        "        file_content = f.read()\n",
        "    print(file_content)\n",
        "except FileNotFoundError:\n",
        "    print(f\"Error: The file {file_path} was not found.\")\n",
        "except Exception as e:\n",
        "    print(f\"An unexpected error occurred: {e}\")"
      ],
      "execution_count": null,
      "outputs": []
    },
    {
      "cell_type": "code",
      "metadata": {
        "id": "6ec95b6a"
      },
      "source": [
        "file_path = \"/content/code (2).txt\"\n",
        "\n",
        "try:\n",
        "    with open(file_path, 'r') as f:\n",
        "        file_content = f.read()\n",
        "    print(file_content)\n",
        "except FileNotFoundError:\n",
        "    print(f\"Error: The file {file_path} was not found.\")\n",
        "except Exception as e:\n",
        "    print(f\"An unexpected error occurred: {e}\")"
      ],
      "execution_count": null,
      "outputs": []
    },
    {
      "cell_type": "code",
      "metadata": {
        "id": "509e24ee"
      },
      "source": [
        "file_path = \"/content/code (1).txt\"\n",
        "\n",
        "try:\n",
        "    with open(file_path, 'r') as f:\n",
        "        file_content = f.read()\n",
        "    print(file_content)\n",
        "except FileNotFoundError:\n",
        "    print(f\"Error: The file {file_path} was not found.\")\n",
        "except Exception as e:\n",
        "    print(f\"An unexpected error occurred: {e}\")"
      ],
      "execution_count": null,
      "outputs": []
    },
    {
      "cell_type": "markdown",
      "metadata": {
        "id": "b8eadeb2"
      },
      "source": [
        "# Task\n",
        "Analyze the email data in the file \"distutils-sig@python.org-2025-03-19-2025-04-20.mbox.gz\"."
      ]
    },
    {
      "cell_type": "markdown",
      "metadata": {
        "id": "4fc442d5"
      },
      "source": [
        "## Decompress the file\n",
        "\n",
        "### Subtask:\n",
        "Decompress the `.mbox.gz` file to get the `.mbox` file.\n"
      ]
    },
    {
      "cell_type": "markdown",
      "metadata": {
        "id": "e7bcec88"
      },
      "source": [
        "**Reasoning**:\n",
        "Decompress the gzipped mbox file using gzip and shutil.\n",
        "\n"
      ]
    },
    {
      "cell_type": "code",
      "metadata": {
        "id": "74cf0bb4"
      },
      "source": [
        "import gzip\n",
        "import shutil\n",
        "\n",
        "input_filepath = \"distutils-sig@python.org-2025-03-19-2025-04-20.mbox.gz\"\n",
        "output_filepath = \"distutils-sig@python.org-2025-03-19-2025-04-20.mbox\"\n",
        "\n",
        "try:\n",
        "    with gzip.open(input_filepath, 'rb') as f_in:\n",
        "        with open(output_filepath, 'wb') as f_out:\n",
        "            shutil.copyfileobj(f_in, f_out)\n",
        "    print(f\"Successfully decompressed {input_filepath} to {output_filepath}\")\n",
        "except FileNotFoundError:\n",
        "    print(f\"Error: The file {input_filepath} was not found.\")\n",
        "except Exception as e:\n",
        "    print(f\"An unexpected error occurred: {e}\")"
      ],
      "execution_count": null,
      "outputs": []
    },
    {
      "cell_type": "markdown",
      "metadata": {
        "id": "34e87b8f"
      },
      "source": [
        "## Parse the mbox file\n",
        "\n",
        "### Subtask:\n",
        "Read the decompressed `.mbox` file and parse its content to extract individual emails or other relevant information.\n"
      ]
    },
    {
      "cell_type": "markdown",
      "metadata": {
        "id": "5d3c69e2"
      },
      "source": [
        "**Reasoning**:\n",
        "Read the decompressed mbox file and extract email information into a pandas DataFrame.\n",
        "\n"
      ]
    },
    {
      "cell_type": "code",
      "metadata": {
        "id": "15ff045b"
      },
      "source": [
        "import mailbox\n",
        "import pandas as pd\n",
        "\n",
        "mbox_file = \"distutils-sig@python.org-2025-03-19-2025-04-20.mbox\"\n",
        "emails_list = []\n",
        "\n",
        "try:\n",
        "    mbox = mailbox.mbox(mbox_file)\n",
        "    for message in mbox:\n",
        "        email_info = {\n",
        "            'From': message['From'],\n",
        "            'Subject': message['Subject'],\n",
        "            'Date': message['Date']\n",
        "        }\n",
        "        emails_list.append(email_info)\n",
        "\n",
        "    emails_df = pd.DataFrame(emails_list)\n",
        "    print(\"Successfully extracted email information.\")\n",
        "    display(emails_df.head())\n",
        "\n",
        "except FileNotFoundError:\n",
        "    print(f\"Error: The file {mbox_file} was not found.\")\n",
        "except Exception as e:\n",
        "    print(f\"An unexpected error occurred: {e}\")"
      ],
      "execution_count": null,
      "outputs": []
    },
    {
      "cell_type": "markdown",
      "metadata": {
        "id": "c89da6d1"
      },
      "source": [
        "**Reasoning**:\n",
        "The DataFrame is empty, indicating that no emails were extracted. This could be due to an issue with reading the mbox file or accessing the message headers. I will attempt to read the mbox file and print the keys of the first message to inspect its structure and see if the headers are accessible.\n",
        "\n"
      ]
    },
    {
      "cell_type": "code",
      "metadata": {
        "id": "46b941e9"
      },
      "source": [
        "import mailbox\n",
        "import pandas as pd\n",
        "\n",
        "mbox_file = \"distutils-sig@python.org-2025-03-19-2025-04-20.mbox\"\n",
        "emails_list = []\n",
        "\n",
        "try:\n",
        "    mbox = mailbox.mbox(mbox_file)\n",
        "    if len(mbox) > 0:\n",
        "        first_message = mbox[0]\n",
        "        print(\"Keys of the first message:\")\n",
        "        print(first_message.keys())\n",
        "    else:\n",
        "        print(\"The mbox file is empty or could not be read.\")\n",
        "\n",
        "except FileNotFoundError:\n",
        "    print(f\"Error: The file {mbox_file} was not found.\")\n",
        "except Exception as e:\n",
        "    print(f\"An unexpected error occurred: {e}\")"
      ],
      "execution_count": null,
      "outputs": []
    },
    {
      "cell_type": "markdown",
      "metadata": {
        "id": "cc1e9db2"
      },
      "source": [
        "## Parse the mbox file retry 1\n",
        "\n",
        "### Subtask:\n",
        "Retry parsing the mbox file to extract individual emails or other relevant information, addressing the issue of the file being reported as empty.\n"
      ]
    },
    {
      "cell_type": "markdown",
      "metadata": {
        "id": "56f06a13"
      },
      "source": [
        "**Reasoning**:\n",
        "Attempt to parse the mbox file again, this time including error handling for missing headers and checking if the mbox object is empty before iterating through messages.\n",
        "\n"
      ]
    },
    {
      "cell_type": "code",
      "metadata": {
        "id": "3567ef16"
      },
      "source": [
        "import mailbox\n",
        "import pandas as pd\n",
        "\n",
        "mbox_file = \"distutils-sig@python.org-2025-03-19-2025-04-20.mbox\"\n",
        "emails_list = []\n",
        "\n",
        "try:\n",
        "    mbox = mailbox.mbox(mbox_file)\n",
        "\n",
        "    if len(mbox) == 0:\n",
        "        print(\"The mbox file is empty or could not be read.\")\n",
        "    else:\n",
        "        for message in mbox:\n",
        "            email_info = {}\n",
        "            try:\n",
        "                email_info['From'] = message['From']\n",
        "            except KeyError:\n",
        "                email_info['From'] = None\n",
        "            try:\n",
        "                email_info['Subject'] = message['Subject']\n",
        "            except KeyError:\n",
        "                email_info['Subject'] = None\n",
        "            try:\n",
        "                email_info['Date'] = message['Date']\n",
        "            except KeyError:\n",
        "                email_info['Date'] = None\n",
        "\n",
        "            emails_list.append(email_info)\n",
        "\n",
        "        emails_df = pd.DataFrame(emails_list)\n",
        "        print(\"Successfully extracted email information.\")\n",
        "        display(emails_df.head())\n",
        "\n",
        "except FileNotFoundError:\n",
        "    print(f\"Error: The file {mbox_file} was not found.\")\n",
        "except Exception as e:\n",
        "    print(f\"An unexpected error occurred: {e}\")"
      ],
      "execution_count": null,
      "outputs": []
    },
    {
      "cell_type": "markdown",
      "metadata": {
        "id": "a6766efc"
      },
      "source": [
        "## Summary:\n",
        "\n",
        "### Data Analysis Key Findings\n",
        "\n",
        "*   The `.mbox.gz` file was successfully decompressed to a `.mbox` file.\n",
        "*   Multiple attempts to parse the decompressed `.mbox` file using the `mailbox` library failed because the file was reported as empty or unreadable.\n",
        "\n",
        "### Insights or Next Steps\n",
        "\n",
        "*   Investigate the contents and format of the `.mbox` file directly using a text editor or command-line tools to understand why the `mailbox` library is reporting it as empty.\n",
        "*   Consider using alternative libraries or methods for parsing `.mbox` files if the `mailbox` library continues to fail.\n"
      ]
    },
    {
      "cell_type": "code",
      "metadata": {
        "id": "7ef91ee3"
      },
      "source": [
        "import json\n",
        "\n",
        "file_path = \"/content/downloaded-logs-20250404-003619.json\"\n",
        "\n",
        "try:\n",
        "    with open(file_path, 'r') as f:\n",
        "        json_content = json.load(f)\n",
        "    print(json.dumps(json_content, indent=4))\n",
        "except FileNotFoundError:\n",
        "    print(f\"Error: The file {file_path} was not found.\")\n",
        "except json.JSONDecodeError:\n",
        "    print(f\"Error: Could not decode JSON from the file {file_path}.\")\n",
        "except Exception as e:\n",
        "    print(f\"An unexpected error occurred: {e}\")"
      ],
      "execution_count": null,
      "outputs": []
    },
    {
      "cell_type": "code",
      "metadata": {
        "id": "b85a1519"
      },
      "source": [
        "import sqlite3\n",
        "\n",
        "file_path = \"/content/wifiConfig (1).db\"\n",
        "\n",
        "try:\n",
        "    conn = sqlite3.connect(file_path)\n",
        "    cursor = conn.cursor()\n",
        "\n",
        "    # Get a list of all tables in the database\n",
        "    cursor.execute(\"SELECT name FROM sqlite_master WHERE type='table';\")\n",
        "    tables = cursor.fetchall()\n",
        "\n",
        "    if tables:\n",
        "        print(\"Tables in the database:\")\n",
        "        for table in tables:\n",
        "            print(table[0])\n",
        "\n",
        "        # Optionally, show the schema of the first table\n",
        "        first_table = tables[0][0]\n",
        "        print(f\"\\nSchema of the '{first_table}' table:\")\n",
        "        cursor.execute(f\"PRAGMA table_info('{first_table}');\")\n",
        "        schema = cursor.fetchall()\n",
        "        for col in schema:\n",
        "            print(col)\n",
        "\n",
        "    else:\n",
        "        print(\"No tables found in the database.\")\n",
        "\n",
        "    conn.close()\n",
        "\n",
        "except FileNotFoundError:\n",
        "    print(f\"Error: The file {file_path} was not found.\")\n",
        "except Exception as e:\n",
        "    print(f\"An unexpected error occurred: {e}\")"
      ],
      "execution_count": null,
      "outputs": []
    }
  ]
}