{
  "nbformat": 4,
  "nbformat_minor": 0,
  "metadata": {
    "colab": {
      "private_outputs": true,
      "provenance": [],
      "authorship_tag": "ABX9TyMWcJZ3fAJfKOirIGfhqnZq",
      "include_colab_link": true
    },
    "kernelspec": {
      "name": "python3",
      "display_name": "Python 3"
    },
    "language_info": {
      "name": "python"
    }
  },
  "cells": [
    {
      "cell_type": "markdown",
      "metadata": {
        "id": "view-in-github",
        "colab_type": "text"
      },
      "source": [
        "<a href=\"https://colab.research.google.com/github/TRIXMI/GreenSoftwareDirectory/blob/main/Alien_house_music_algorithm_blueprint.ipynb\" target=\"_parent\"><img src=\"https://colab.research.google.com/assets/colab-badge.svg\" alt=\"Open In Colab\"/></a>"
      ]
    },
    {
      "cell_type": "code",
      "execution_count": null,
      "metadata": {
        "id": "xVKFu4fAmcUm"
      },
      "outputs": [],
      "source": [
        "# prompt: https://aistudio.google.com/app/prompts?state=%7B%22ids%22:%5B%221VWNRczYVCBCAfe_dlJfkNj5QgyUjBceq%22%5D,%22action%22:%22open%22,%22userId%22:%22111118477956374940845%22,%22resourceKeys%22:%7B%7D%7D&usp=sharing\n",
        "\n",
        "%reload_ext google.colab.data_table\n",
        "import pandas as pd\n",
        "\n",
        "data = {'col1': [1, 2, 3], 'col2': [4, 5, 6], 'col3': [7, 8, 9]}\n",
        "df = pd.DataFrame(data)\n",
        "\n",
        "df"
      ]
    },
    {
      "cell_type": "code",
      "source": [
        "# prompt: Using dataframe df: # Define a function to calculate the factorial of a non-negative integer\n",
        "# def calculate_factorial(n):\n",
        "#   # ... (function body as provided) ...\n",
        "\n",
        "# Define a function to calculate the factorial of a non-negative integer\n",
        "def calculate_factorial(n):\n",
        "  # Check if the number is negative\n",
        "  if n < 0:\n",
        "    return \"Factorial is not defined for negative numbers\"\n",
        "  # Check if the number is zero\n",
        "  elif n == 0:\n",
        "    return 1\n",
        "  # Calculate the factorial for positive numbers\n",
        "  else:\n",
        "    factorial = 1\n",
        "    for i in range(1, n + 1):\n",
        "      factorial *= i\n",
        "    return factorial\n",
        "print(calculate_factorial(5))"
      ],
      "metadata": {
        "id": "PBObmp6Rm8Af"
      },
      "execution_count": null,
      "outputs": []
    },
    {
      "cell_type": "code",
      "metadata": {
        "id": "8eb35c33"
      },
      "source": [
        "!git clone https://github.com/TWEAKING-BEATS-XR/magenta-realtime.git"
      ],
      "execution_count": null,
      "outputs": []
    },
    {
      "cell_type": "code",
      "metadata": {
        "id": "061fd174"
      },
      "source": [
        "import tarfile\n",
        "import os\n",
        "\n",
        "file_path = \"/content/alien-house-music-.-tensor-llm-gemmacpp-default-v1.tar.gz\"\n",
        "extract_dir = \"/content/extracted_data\"\n",
        "\n",
        "# Create the extraction directory if it doesn't exist\n",
        "os.makedirs(extract_dir, exist_ok=True)\n",
        "\n",
        "# Open and extract the tar.gz file\n",
        "try:\n",
        "    with tarfile.open(file_path, 'r:gz') as tar:\n",
        "        tar.extractall(path=extract_dir)\n",
        "    print(f\"Successfully extracted {file_path} to {extract_dir}\")\n",
        "except tarfile.TarError as e:\n",
        "    print(f\"Error extracting tar.gz file: {e}\")\n",
        "except FileNotFoundError:\n",
        "    print(f\"Error: The file {file_path} was not found.\")\n",
        "except Exception as e:\n",
        "    print(f\"An unexpected error occurred: {e}\")"
      ],
      "execution_count": null,
      "outputs": []
    },
    {
      "cell_type": "code",
      "metadata": {
        "id": "a121395a"
      },
      "source": [
        "file_path = \"/content/code 140.py\"\n",
        "\n",
        "try:\n",
        "    with open(file_path, 'r') as f:\n",
        "        file_content = f.read()\n",
        "    print(file_content)\n",
        "except FileNotFoundError:\n",
        "    print(f\"Error: The file {file_path} was not found.\")\n",
        "except Exception as e:\n",
        "    print(f\"An unexpected error occurred: {e}\")"
      ],
      "execution_count": null,
      "outputs": []
    },
    {
      "cell_type": "code",
      "metadata": {
        "id": "e1399503"
      },
      "source": [
        "file_path = \"/content/code 140.sh\"\n",
        "\n",
        "try:\n",
        "    with open(file_path, 'r') as f:\n",
        "        file_content = f.read()\n",
        "    print(file_content)\n",
        "except FileNotFoundError:\n",
        "    print(f\"Error: The file {file_path} was not found.\")\n",
        "except Exception as e:\n",
        "    print(f\"An unexpected error occurred: {e}\")"
      ],
      "execution_count": null,
      "outputs": []
    },
    {
      "cell_type": "code",
      "metadata": {
        "id": "8c1746e0"
      },
      "source": [
        "file_path = \"/content/code 139.py\"\n",
        "\n",
        "try:\n",
        "    with open(file_path, 'r') as f:\n",
        "        file_content = f.read()\n",
        "    print(file_content)\n",
        "except FileNotFoundError:\n",
        "    print(f\"Error: The file {file_path} was not found.\")\n",
        "except Exception as e:\n",
        "    print(f\"An unexpected error occurred: {e}\")"
      ],
      "execution_count": null,
      "outputs": []
    },
    {
      "cell_type": "code",
      "metadata": {
        "id": "93c3f7e0"
      },
      "source": [
        "file_path = \"/content/code 138.sh\"\n",
        "\n",
        "try:\n",
        "    with open(file_path, 'r') as f:\n",
        "        file_content = f.read()\n",
        "    print(file_content)\n",
        "except FileNotFoundError:\n",
        "    print(f\"Error: The file {file_path} was not found.\")\n",
        "except Exception as e:\n",
        "    print(f\"An unexpected error occurred: {e}\")"
      ],
      "execution_count": null,
      "outputs": []
    },
    {
      "cell_type": "code",
      "metadata": {
        "id": "ba9ddead"
      },
      "source": [
        "file_path = \"/content/code 136.py\"\n",
        "\n",
        "try:\n",
        "    with open(file_path, 'r') as f:\n",
        "        file_content = f.read()\n",
        "    print(file_content)\n",
        "except FileNotFoundError:\n",
        "    print(f\"Error: The file {file_path} was not found.\")\n",
        "except Exception as e:\n",
        "    print(f\"An unexpected error occurred: {e}\")"
      ],
      "execution_count": null,
      "outputs": []
    },
    {
      "cell_type": "code",
      "metadata": {
        "id": "7eb9c000"
      },
      "source": [
        "file_path = \"/content/code 135.sh\"\n",
        "\n",
        "try:\n",
        "    with open(file_path, 'r') as f:\n",
        "        file_content = f.read()\n",
        "    print(file_content)\n",
        "except FileNotFoundError:\n",
        "    print(f\"Error: The file {file_path} was not found.\")\n",
        "except Exception as e:\n",
        "    print(f\"An unexpected error occurred: {e}\")"
      ],
      "execution_count": null,
      "outputs": []
    },
    {
      "cell_type": "code",
      "metadata": {
        "id": "f47750f4"
      },
      "source": [
        "file_path = \"/content/code 134.sh\"\n",
        "\n",
        "try:\n",
        "    with open(file_path, 'r') as f:\n",
        "        file_content = f.read()\n",
        "    print(file_content)\n",
        "except FileNotFoundError:\n",
        "    print(f\"Error: The file {file_path} was not found.\")\n",
        "except Exception as e:\n",
        "    print(f\"An unexpected error occurred: {e}\")"
      ],
      "execution_count": null,
      "outputs": []
    },
    {
      "cell_type": "code",
      "metadata": {
        "id": "8425216c"
      },
      "source": [
        "file_path = \"/content/code 133.txt\"\n",
        "\n",
        "try:\n",
        "    with open(file_path, 'r') as f:\n",
        "        file_content = f.read()\n",
        "    print(file_content)\n",
        "except FileNotFoundError:\n",
        "    print(f\"Error: The file {file_path} was not found.\")\n",
        "except Exception as e:\n",
        "    print(f\"An unexpected error occurred: {e}\")"
      ],
      "execution_count": null,
      "outputs": []
    },
    {
      "cell_type": "code",
      "metadata": {
        "id": "37024885"
      },
      "source": [
        "file_path = \"/content/code 131.py\"\n",
        "\n",
        "try:\n",
        "    with open(file_path, 'r') as f:\n",
        "        file_content = f.read()\n",
        "    print(file_content)\n",
        "except FileNotFoundError:\n",
        "    print(f\"Error: The file {file_path} was not found.\")\n",
        "except Exception as e:\n",
        "    print(f\"An unexpected error occurred: {e}\")"
      ],
      "execution_count": null,
      "outputs": []
    },
    {
      "cell_type": "code",
      "metadata": {
        "id": "faed8176"
      },
      "source": [
        "file_path = \"/content/code 130.txt\"\n",
        "\n",
        "try:\n",
        "    with open(file_path, 'r') as f:\n",
        "        file_content = f.read()\n",
        "    print(file_content)\n",
        "except FileNotFoundError:\n",
        "    print(f\"Error: The file {file_path} was not found.\")\n",
        "except Exception as e:\n",
        "    print(f\"An unexpected error occurred: {e}\")"
      ],
      "execution_count": null,
      "outputs": []
    },
    {
      "cell_type": "code",
      "metadata": {
        "id": "7702f384"
      },
      "source": [
        "file_path = \"/content/code 129.txt\"\n",
        "\n",
        "try:\n",
        "    with open(file_path, 'r') as f:\n",
        "        file_content = f.read()\n",
        "    print(file_content)\n",
        "except FileNotFoundError:\n",
        "    print(f\"Error: The file {file_path} was not found.\")\n",
        "except Exception as e:\n",
        "    print(f\"An unexpected error occurred: {e}\")"
      ],
      "execution_count": null,
      "outputs": []
    },
    {
      "cell_type": "code",
      "metadata": {
        "id": "c396fcad"
      },
      "source": [
        "file_path = \"/content/code 128.txt\"\n",
        "\n",
        "try:\n",
        "    with open(file_path, 'r') as f:\n",
        "        file_content = f.read()\n",
        "    print(file_content)\n",
        "except FileNotFoundError:\n",
        "    print(f\"Error: The file {file_path} was not found.\")\n",
        "except Exception as e:\n",
        "    print(f\"An unexpected error occurred: {e}\")"
      ],
      "execution_count": null,
      "outputs": []
    },
    {
      "cell_type": "code",
      "metadata": {
        "id": "32e71916"
      },
      "source": [
        "file_path = \"/content/code 127.py\"\n",
        "\n",
        "try:\n",
        "    with open(file_path, 'r') as f:\n",
        "        file_content = f.read()\n",
        "    print(file_content)\n",
        "except FileNotFoundError:\n",
        "    print(f\"Error: The file {file_path} was not found.\")\n",
        "except Exception as e:\n",
        "    print(f\"An unexpected error occurred: {e}\")"
      ],
      "execution_count": null,
      "outputs": []
    },
    {
      "cell_type": "code",
      "metadata": {
        "id": "235a757d"
      },
      "source": [
        "file_path = \"/content/code 126.txt\"\n",
        "\n",
        "try:\n",
        "    with open(file_path, 'r') as f:\n",
        "        file_content = f.read()\n",
        "    print(file_content)\n",
        "except FileNotFoundError:\n",
        "    print(f\"Error: The file {file_path} was not found.\")\n",
        "except Exception as e:\n",
        "    print(f\"An unexpected error occurred: {e}\")"
      ],
      "execution_count": null,
      "outputs": []
    },
    {
      "cell_type": "code",
      "metadata": {
        "id": "e3b4d059"
      },
      "source": [
        "file_path = \"/content/code 125.py\"\n",
        "\n",
        "try:\n",
        "    with open(file_path, 'r') as f:\n",
        "        file_content = f.read()\n",
        "    print(file_content)\n",
        "except FileNotFoundError:\n",
        "    print(f\"Error: The file {file_path} was not found.\")\n",
        "except Exception as e:\n",
        "    print(f\"An unexpected error occurred: {e}\")"
      ],
      "execution_count": null,
      "outputs": []
    },
    {
      "cell_type": "code",
      "metadata": {
        "id": "1f9e60a6"
      },
      "source": [
        "file_path = \"/content/code 124.py\"\n",
        "\n",
        "try:\n",
        "    with open(file_path, 'r') as f:\n",
        "        file_content = f.read()\n",
        "    print(file_content)\n",
        "except FileNotFoundError:\n",
        "    print(f\"Error: The file {file_path} was not found.\")\n",
        "except Exception as e:\n",
        "    print(f\"An unexpected error occurred: {e}\")"
      ],
      "execution_count": null,
      "outputs": []
    },
    {
      "cell_type": "code",
      "metadata": {
        "id": "cefa6a74"
      },
      "source": [
        "file_path = \"/content/code 123.py\"\n",
        "\n",
        "try:\n",
        "    with open(file_path, 'r') as f:\n",
        "        file_content = f.read()\n",
        "    print(file_content)\n",
        "except FileNotFoundError:\n",
        "    print(f\"Error: The file {file_path} was not found.\")\n",
        "except Exception as e:\n",
        "    print(f\"An unexpected error occurred: {e}\")"
      ],
      "execution_count": null,
      "outputs": []
    },
    {
      "cell_type": "code",
      "metadata": {
        "id": "05a45e45"
      },
      "source": [
        "file_path = \"/content/code 122.py\"\n",
        "\n",
        "try:\n",
        "    with open(file_path, 'r') as f:\n",
        "        file_content = f.read()\n",
        "    print(file_content)\n",
        "except FileNotFoundError:\n",
        "    print(f\"Error: The file {file_path} was not found.\")\n",
        "except Exception as e:\n",
        "    print(f\"An unexpected error occurred: {e}\")"
      ],
      "execution_count": null,
      "outputs": []
    },
    {
      "cell_type": "code",
      "metadata": {
        "id": "75de4a84"
      },
      "source": [
        "file_path = \"/content/code 121.py\"\n",
        "\n",
        "try:\n",
        "    with open(file_path, 'r') as f:\n",
        "        file_content = f.read()\n",
        "    print(file_content)\n",
        "except FileNotFoundError:\n",
        "    print(f\"Error: The file {file_path} was not found.\")\n",
        "except Exception as e:\n",
        "    print(f\"An unexpected error occurred: {e}\")"
      ],
      "execution_count": null,
      "outputs": []
    },
    {
      "cell_type": "code",
      "metadata": {
        "id": "e6369ebf"
      },
      "source": [
        "file_path = \"/content/code 120.py\"\n",
        "\n",
        "try:\n",
        "    with open(file_path, 'r') as f:\n",
        "        file_content = f.read()\n",
        "    print(file_content)\n",
        "except FileNotFoundError:\n",
        "    print(f\"Error: The file {file_path} was not found.\")\n",
        "except Exception as e:\n",
        "    print(f\"An unexpected error occurred: {e}\")"
      ],
      "execution_count": null,
      "outputs": []
    },
    {
      "cell_type": "code",
      "metadata": {
        "id": "6942c238"
      },
      "source": [
        "file_path = \"/content/code 119.txt\"\n",
        "\n",
        "try:\n",
        "    with open(file_path, 'r') as f:\n",
        "        file_content = f.read()\n",
        "    print(file_content)\n",
        "except FileNotFoundError:\n",
        "    print(f\"Error: The file {file_path} was not found.\")\n",
        "except Exception as e:\n",
        "    print(f\"An unexpected error occurred: {e}\")"
      ],
      "execution_count": null,
      "outputs": []
    }
  ]
}